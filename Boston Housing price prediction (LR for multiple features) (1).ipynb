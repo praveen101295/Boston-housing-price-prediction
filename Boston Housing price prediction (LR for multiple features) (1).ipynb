{
 "cells": [
  {
   "cell_type": "markdown",
   "metadata": {},
   "source": [
    "## Boston Houses Dataset\n",
    "\n",
    "###### Boston house prices dataset\n",
    "---------------------------\n",
    "\n",
    "**Data Set Characteristics:**  \n",
    "\n",
    "    :Number of Instances: 506 \n",
    "\n",
    "    :Number of Attributes: 13 numeric/categorical predictive. Median Value (attribute 14) is usually the target.\n",
    "\n",
    "    :Attribute Information (in order):\n",
    "        - CRIM     per capita crime rate by town\n",
    "        - ZN       proportion of residential land zoned for lots over 25,000 sq.ft.\n",
    "        - INDUS    proportion of non-retail business acres per town\n",
    "        - CHAS     Charles River dummy variable (= 1 if tract bounds river; 0 otherwise)\n",
    "        - NOX      nitric oxides concentration (parts per 10 million)\n",
    "        - RM       average number of rooms per dwelling\n",
    "        - AGE      proportion of owner-occupied units built prior to 1940\n",
    "        - DIS      weighted distances to five Boston employment centres\n",
    "        - RAD      index of accessibility to radial highways\n",
    "        - TAX      full-value property-tax rate per $10,000\n",
    "        - PTRATIO  pupil-teacher ratio by town\n",
    "        - B        1000(Bk - 0.63)^2 where Bk is the proportion of blacks by town\n",
    "        - LSTAT    % lower status of the population\n",
    "        - MEDV     Median value of owner-occupied homes in $1000's\n",
    "\n",
    "\n",
    "\n",
    "### - Exploratory Analysis"
   ]
  },
  {
   "cell_type": "code",
   "execution_count": 84,
   "metadata": {},
   "outputs": [],
   "source": [
    "from sklearn.datasets import load_boston"
   ]
  },
  {
   "cell_type": "code",
   "execution_count": 85,
   "metadata": {},
   "outputs": [],
   "source": [
    "boston = load_boston()\n",
    "\n",
    "X = boston.data\n",
    "y= boston.target"
   ]
  },
  {
   "cell_type": "code",
   "execution_count": 86,
   "metadata": {},
   "outputs": [
    {
     "name": "stdout",
     "output_type": "stream",
     "text": [
      "(506, 13)\n",
      "(506,)\n"
     ]
    }
   ],
   "source": [
    "print(X.shape)\n",
    "print(y.shape)"
   ]
  },
  {
   "cell_type": "code",
   "execution_count": 87,
   "metadata": {},
   "outputs": [
    {
     "name": "stdout",
     "output_type": "stream",
     "text": [
      "['CRIM' 'ZN' 'INDUS' 'CHAS' 'NOX' 'RM' 'AGE' 'DIS' 'RAD' 'TAX' 'PTRATIO'\n",
      " 'B' 'LSTAT']\n"
     ]
    }
   ],
   "source": [
    "print(boston.feature_names) #all the features of the dataset"
   ]
  },
  {
   "cell_type": "code",
   "execution_count": 88,
   "metadata": {},
   "outputs": [
    {
     "name": "stdout",
     "output_type": "stream",
     "text": [
      ".. _boston_dataset:\n",
      "\n",
      "Boston house prices dataset\n",
      "---------------------------\n",
      "\n",
      "**Data Set Characteristics:**  \n",
      "\n",
      "    :Number of Instances: 506 \n",
      "\n",
      "    :Number of Attributes: 13 numeric/categorical predictive. Median Value (attribute 14) is usually the target.\n",
      "\n",
      "    :Attribute Information (in order):\n",
      "        - CRIM     per capita crime rate by town\n",
      "        - ZN       proportion of residential land zoned for lots over 25,000 sq.ft.\n",
      "        - INDUS    proportion of non-retail business acres per town\n",
      "        - CHAS     Charles River dummy variable (= 1 if tract bounds river; 0 otherwise)\n",
      "        - NOX      nitric oxides concentration (parts per 10 million)\n",
      "        - RM       average number of rooms per dwelling\n",
      "        - AGE      proportion of owner-occupied units built prior to 1940\n",
      "        - DIS      weighted distances to five Boston employment centres\n",
      "        - RAD      index of accessibility to radial highways\n",
      "        - TAX      full-value property-tax rate per $10,000\n",
      "        - PTRATIO  pupil-teacher ratio by town\n",
      "        - B        1000(Bk - 0.63)^2 where Bk is the proportion of blacks by town\n",
      "        - LSTAT    % lower status of the population\n",
      "        - MEDV     Median value of owner-occupied homes in $1000's\n",
      "\n",
      "    :Missing Attribute Values: None\n",
      "\n",
      "    :Creator: Harrison, D. and Rubinfeld, D.L.\n",
      "\n",
      "This is a copy of UCI ML housing dataset.\n",
      "https://archive.ics.uci.edu/ml/machine-learning-databases/housing/\n",
      "\n",
      "\n",
      "This dataset was taken from the StatLib library which is maintained at Carnegie Mellon University.\n",
      "\n",
      "The Boston house-price data of Harrison, D. and Rubinfeld, D.L. 'Hedonic\n",
      "prices and the demand for clean air', J. Environ. Economics & Management,\n",
      "vol.5, 81-102, 1978.   Used in Belsley, Kuh & Welsch, 'Regression diagnostics\n",
      "...', Wiley, 1980.   N.B. Various transformations are used in the table on\n",
      "pages 244-261 of the latter.\n",
      "\n",
      "The Boston house-price data has been used in many machine learning papers that address regression\n",
      "problems.   \n",
      "     \n",
      ".. topic:: References\n",
      "\n",
      "   - Belsley, Kuh & Welsch, 'Regression diagnostics: Identifying Influential Data and Sources of Collinearity', Wiley, 1980. 244-261.\n",
      "   - Quinlan,R. (1993). Combining Instance-Based and Model-Based Learning. In Proceedings on the Tenth International Conference of Machine Learning, 236-243, University of Massachusetts, Amherst. Morgan Kaufmann.\n",
      "\n"
     ]
    }
   ],
   "source": [
    "print(boston.DESCR) #Describing the dataset"
   ]
  },
  {
   "cell_type": "code",
   "execution_count": 89,
   "metadata": {},
   "outputs": [
    {
     "data": {
      "text/html": [
       "<div>\n",
       "<style scoped>\n",
       "    .dataframe tbody tr th:only-of-type {\n",
       "        vertical-align: middle;\n",
       "    }\n",
       "\n",
       "    .dataframe tbody tr th {\n",
       "        vertical-align: top;\n",
       "    }\n",
       "\n",
       "    .dataframe thead th {\n",
       "        text-align: right;\n",
       "    }\n",
       "</style>\n",
       "<table border=\"1\" class=\"dataframe\">\n",
       "  <thead>\n",
       "    <tr style=\"text-align: right;\">\n",
       "      <th></th>\n",
       "      <th>CRIM</th>\n",
       "      <th>ZN</th>\n",
       "      <th>INDUS</th>\n",
       "      <th>CHAS</th>\n",
       "      <th>NOX</th>\n",
       "      <th>RM</th>\n",
       "      <th>AGE</th>\n",
       "      <th>DIS</th>\n",
       "      <th>RAD</th>\n",
       "      <th>TAX</th>\n",
       "      <th>PTRATIO</th>\n",
       "      <th>B</th>\n",
       "      <th>LSTAT</th>\n",
       "    </tr>\n",
       "  </thead>\n",
       "  <tbody>\n",
       "    <tr>\n",
       "      <th>0</th>\n",
       "      <td>0.00632</td>\n",
       "      <td>18.0</td>\n",
       "      <td>2.31</td>\n",
       "      <td>0.0</td>\n",
       "      <td>0.538</td>\n",
       "      <td>6.575</td>\n",
       "      <td>65.2</td>\n",
       "      <td>4.0900</td>\n",
       "      <td>1.0</td>\n",
       "      <td>296.0</td>\n",
       "      <td>15.3</td>\n",
       "      <td>396.90</td>\n",
       "      <td>4.98</td>\n",
       "    </tr>\n",
       "    <tr>\n",
       "      <th>1</th>\n",
       "      <td>0.02731</td>\n",
       "      <td>0.0</td>\n",
       "      <td>7.07</td>\n",
       "      <td>0.0</td>\n",
       "      <td>0.469</td>\n",
       "      <td>6.421</td>\n",
       "      <td>78.9</td>\n",
       "      <td>4.9671</td>\n",
       "      <td>2.0</td>\n",
       "      <td>242.0</td>\n",
       "      <td>17.8</td>\n",
       "      <td>396.90</td>\n",
       "      <td>9.14</td>\n",
       "    </tr>\n",
       "    <tr>\n",
       "      <th>2</th>\n",
       "      <td>0.02729</td>\n",
       "      <td>0.0</td>\n",
       "      <td>7.07</td>\n",
       "      <td>0.0</td>\n",
       "      <td>0.469</td>\n",
       "      <td>7.185</td>\n",
       "      <td>61.1</td>\n",
       "      <td>4.9671</td>\n",
       "      <td>2.0</td>\n",
       "      <td>242.0</td>\n",
       "      <td>17.8</td>\n",
       "      <td>392.83</td>\n",
       "      <td>4.03</td>\n",
       "    </tr>\n",
       "    <tr>\n",
       "      <th>3</th>\n",
       "      <td>0.03237</td>\n",
       "      <td>0.0</td>\n",
       "      <td>2.18</td>\n",
       "      <td>0.0</td>\n",
       "      <td>0.458</td>\n",
       "      <td>6.998</td>\n",
       "      <td>45.8</td>\n",
       "      <td>6.0622</td>\n",
       "      <td>3.0</td>\n",
       "      <td>222.0</td>\n",
       "      <td>18.7</td>\n",
       "      <td>394.63</td>\n",
       "      <td>2.94</td>\n",
       "    </tr>\n",
       "    <tr>\n",
       "      <th>4</th>\n",
       "      <td>0.06905</td>\n",
       "      <td>0.0</td>\n",
       "      <td>2.18</td>\n",
       "      <td>0.0</td>\n",
       "      <td>0.458</td>\n",
       "      <td>7.147</td>\n",
       "      <td>54.2</td>\n",
       "      <td>6.0622</td>\n",
       "      <td>3.0</td>\n",
       "      <td>222.0</td>\n",
       "      <td>18.7</td>\n",
       "      <td>396.90</td>\n",
       "      <td>5.33</td>\n",
       "    </tr>\n",
       "  </tbody>\n",
       "</table>\n",
       "</div>"
      ],
      "text/plain": [
       "      CRIM    ZN  INDUS  CHAS    NOX  ...  RAD    TAX  PTRATIO       B  LSTAT\n",
       "0  0.00632  18.0   2.31   0.0  0.538  ...  1.0  296.0     15.3  396.90   4.98\n",
       "1  0.02731   0.0   7.07   0.0  0.469  ...  2.0  242.0     17.8  396.90   9.14\n",
       "2  0.02729   0.0   7.07   0.0  0.469  ...  2.0  242.0     17.8  392.83   4.03\n",
       "3  0.03237   0.0   2.18   0.0  0.458  ...  3.0  222.0     18.7  394.63   2.94\n",
       "4  0.06905   0.0   2.18   0.0  0.458  ...  3.0  222.0     18.7  396.90   5.33\n",
       "\n",
       "[5 rows x 13 columns]"
      ]
     },
     "execution_count": 89,
     "metadata": {},
     "output_type": "execute_result"
    }
   ],
   "source": [
    "import pandas as pd\n",
    "df = pd.DataFrame(X)\n",
    "df.columns=boston.feature_names\n",
    "df.head()"
   ]
  },
  {
   "cell_type": "code",
   "execution_count": 90,
   "metadata": {},
   "outputs": [
    {
     "data": {
      "text/html": [
       "<div>\n",
       "<style scoped>\n",
       "    .dataframe tbody tr th:only-of-type {\n",
       "        vertical-align: middle;\n",
       "    }\n",
       "\n",
       "    .dataframe tbody tr th {\n",
       "        vertical-align: top;\n",
       "    }\n",
       "\n",
       "    .dataframe thead th {\n",
       "        text-align: right;\n",
       "    }\n",
       "</style>\n",
       "<table border=\"1\" class=\"dataframe\">\n",
       "  <thead>\n",
       "    <tr style=\"text-align: right;\">\n",
       "      <th></th>\n",
       "      <th>CRIM</th>\n",
       "      <th>ZN</th>\n",
       "      <th>INDUS</th>\n",
       "      <th>CHAS</th>\n",
       "      <th>NOX</th>\n",
       "      <th>RM</th>\n",
       "      <th>AGE</th>\n",
       "      <th>DIS</th>\n",
       "      <th>RAD</th>\n",
       "      <th>TAX</th>\n",
       "      <th>PTRATIO</th>\n",
       "      <th>B</th>\n",
       "      <th>LSTAT</th>\n",
       "    </tr>\n",
       "  </thead>\n",
       "  <tbody>\n",
       "    <tr>\n",
       "      <th>count</th>\n",
       "      <td>506.000000</td>\n",
       "      <td>506.000000</td>\n",
       "      <td>506.000000</td>\n",
       "      <td>506.000000</td>\n",
       "      <td>506.000000</td>\n",
       "      <td>506.000000</td>\n",
       "      <td>506.000000</td>\n",
       "      <td>506.000000</td>\n",
       "      <td>506.000000</td>\n",
       "      <td>506.000000</td>\n",
       "      <td>506.000000</td>\n",
       "      <td>506.000000</td>\n",
       "      <td>506.000000</td>\n",
       "    </tr>\n",
       "    <tr>\n",
       "      <th>mean</th>\n",
       "      <td>3.613524</td>\n",
       "      <td>11.363636</td>\n",
       "      <td>11.136779</td>\n",
       "      <td>0.069170</td>\n",
       "      <td>0.554695</td>\n",
       "      <td>6.284634</td>\n",
       "      <td>68.574901</td>\n",
       "      <td>3.795043</td>\n",
       "      <td>9.549407</td>\n",
       "      <td>408.237154</td>\n",
       "      <td>18.455534</td>\n",
       "      <td>356.674032</td>\n",
       "      <td>12.653063</td>\n",
       "    </tr>\n",
       "    <tr>\n",
       "      <th>std</th>\n",
       "      <td>8.601545</td>\n",
       "      <td>23.322453</td>\n",
       "      <td>6.860353</td>\n",
       "      <td>0.253994</td>\n",
       "      <td>0.115878</td>\n",
       "      <td>0.702617</td>\n",
       "      <td>28.148861</td>\n",
       "      <td>2.105710</td>\n",
       "      <td>8.707259</td>\n",
       "      <td>168.537116</td>\n",
       "      <td>2.164946</td>\n",
       "      <td>91.294864</td>\n",
       "      <td>7.141062</td>\n",
       "    </tr>\n",
       "    <tr>\n",
       "      <th>min</th>\n",
       "      <td>0.006320</td>\n",
       "      <td>0.000000</td>\n",
       "      <td>0.460000</td>\n",
       "      <td>0.000000</td>\n",
       "      <td>0.385000</td>\n",
       "      <td>3.561000</td>\n",
       "      <td>2.900000</td>\n",
       "      <td>1.129600</td>\n",
       "      <td>1.000000</td>\n",
       "      <td>187.000000</td>\n",
       "      <td>12.600000</td>\n",
       "      <td>0.320000</td>\n",
       "      <td>1.730000</td>\n",
       "    </tr>\n",
       "    <tr>\n",
       "      <th>25%</th>\n",
       "      <td>0.082045</td>\n",
       "      <td>0.000000</td>\n",
       "      <td>5.190000</td>\n",
       "      <td>0.000000</td>\n",
       "      <td>0.449000</td>\n",
       "      <td>5.885500</td>\n",
       "      <td>45.025000</td>\n",
       "      <td>2.100175</td>\n",
       "      <td>4.000000</td>\n",
       "      <td>279.000000</td>\n",
       "      <td>17.400000</td>\n",
       "      <td>375.377500</td>\n",
       "      <td>6.950000</td>\n",
       "    </tr>\n",
       "    <tr>\n",
       "      <th>50%</th>\n",
       "      <td>0.256510</td>\n",
       "      <td>0.000000</td>\n",
       "      <td>9.690000</td>\n",
       "      <td>0.000000</td>\n",
       "      <td>0.538000</td>\n",
       "      <td>6.208500</td>\n",
       "      <td>77.500000</td>\n",
       "      <td>3.207450</td>\n",
       "      <td>5.000000</td>\n",
       "      <td>330.000000</td>\n",
       "      <td>19.050000</td>\n",
       "      <td>391.440000</td>\n",
       "      <td>11.360000</td>\n",
       "    </tr>\n",
       "    <tr>\n",
       "      <th>75%</th>\n",
       "      <td>3.677083</td>\n",
       "      <td>12.500000</td>\n",
       "      <td>18.100000</td>\n",
       "      <td>0.000000</td>\n",
       "      <td>0.624000</td>\n",
       "      <td>6.623500</td>\n",
       "      <td>94.075000</td>\n",
       "      <td>5.188425</td>\n",
       "      <td>24.000000</td>\n",
       "      <td>666.000000</td>\n",
       "      <td>20.200000</td>\n",
       "      <td>396.225000</td>\n",
       "      <td>16.955000</td>\n",
       "    </tr>\n",
       "    <tr>\n",
       "      <th>max</th>\n",
       "      <td>88.976200</td>\n",
       "      <td>100.000000</td>\n",
       "      <td>27.740000</td>\n",
       "      <td>1.000000</td>\n",
       "      <td>0.871000</td>\n",
       "      <td>8.780000</td>\n",
       "      <td>100.000000</td>\n",
       "      <td>12.126500</td>\n",
       "      <td>24.000000</td>\n",
       "      <td>711.000000</td>\n",
       "      <td>22.000000</td>\n",
       "      <td>396.900000</td>\n",
       "      <td>37.970000</td>\n",
       "    </tr>\n",
       "  </tbody>\n",
       "</table>\n",
       "</div>"
      ],
      "text/plain": [
       "             CRIM          ZN       INDUS  ...     PTRATIO           B       LSTAT\n",
       "count  506.000000  506.000000  506.000000  ...  506.000000  506.000000  506.000000\n",
       "mean     3.613524   11.363636   11.136779  ...   18.455534  356.674032   12.653063\n",
       "std      8.601545   23.322453    6.860353  ...    2.164946   91.294864    7.141062\n",
       "min      0.006320    0.000000    0.460000  ...   12.600000    0.320000    1.730000\n",
       "25%      0.082045    0.000000    5.190000  ...   17.400000  375.377500    6.950000\n",
       "50%      0.256510    0.000000    9.690000  ...   19.050000  391.440000   11.360000\n",
       "75%      3.677083   12.500000   18.100000  ...   20.200000  396.225000   16.955000\n",
       "max     88.976200  100.000000   27.740000  ...   22.000000  396.900000   37.970000\n",
       "\n",
       "[8 rows x 13 columns]"
      ]
     },
     "execution_count": 90,
     "metadata": {},
     "output_type": "execute_result"
    }
   ],
   "source": [
    "df.describe()"
   ]
  },
  {
   "cell_type": "code",
   "execution_count": 91,
   "metadata": {},
   "outputs": [],
   "source": [
    "# Hence our dataset is not normalise\n",
    "\n",
    "# Normalise the dataset\n",
    "# how we know our datset is normalised:\n",
    "## -Each feature must have 0 mean, and unit variance"
   ]
  },
  {
   "cell_type": "code",
   "execution_count": 92,
   "metadata": {},
   "outputs": [
    {
     "name": "stdout",
     "output_type": "stream",
     "text": [
      "[3.61352356e+00 1.13636364e+01 1.11367787e+01 6.91699605e-02\n",
      " 5.54695059e-01 6.28463439e+00 6.85749012e+01 3.79504269e+00\n",
      " 9.54940711e+00 4.08237154e+02 1.84555336e+01 3.56674032e+02\n",
      " 1.26530632e+01] [8.59304135e+00 2.32993957e+01 6.85357058e+00 2.53742935e-01\n",
      " 1.15763115e-01 7.01922514e-01 2.81210326e+01 2.10362836e+00\n",
      " 8.69865112e+00 1.68370495e+02 2.16280519e+00 9.12046075e+01\n",
      " 7.13400164e+00]\n"
     ]
    }
   ],
   "source": [
    "# now we need to find out the mean of every column\n",
    "import numpy as np\n",
    "u = np.mean(X, axis=0)\n",
    "std = np.std(X, axis =0)\n",
    "print(u,std)"
   ]
  },
  {
   "cell_type": "code",
   "execution_count": 93,
   "metadata": {},
   "outputs": [
    {
     "data": {
      "text/html": [
       "<div>\n",
       "<style scoped>\n",
       "    .dataframe tbody tr th:only-of-type {\n",
       "        vertical-align: middle;\n",
       "    }\n",
       "\n",
       "    .dataframe tbody tr th {\n",
       "        vertical-align: top;\n",
       "    }\n",
       "\n",
       "    .dataframe thead th {\n",
       "        text-align: right;\n",
       "    }\n",
       "</style>\n",
       "<table border=\"1\" class=\"dataframe\">\n",
       "  <thead>\n",
       "    <tr style=\"text-align: right;\">\n",
       "      <th></th>\n",
       "      <th>0</th>\n",
       "      <th>1</th>\n",
       "      <th>2</th>\n",
       "      <th>3</th>\n",
       "      <th>4</th>\n",
       "      <th>5</th>\n",
       "      <th>6</th>\n",
       "      <th>7</th>\n",
       "      <th>8</th>\n",
       "      <th>9</th>\n",
       "      <th>10</th>\n",
       "      <th>11</th>\n",
       "      <th>12</th>\n",
       "    </tr>\n",
       "  </thead>\n",
       "  <tbody>\n",
       "    <tr>\n",
       "      <th>0</th>\n",
       "      <td>-0.419782</td>\n",
       "      <td>0.284830</td>\n",
       "      <td>-1.287909</td>\n",
       "      <td>-0.272599</td>\n",
       "      <td>-0.144217</td>\n",
       "      <td>0.413672</td>\n",
       "      <td>-0.120013</td>\n",
       "      <td>0.140214</td>\n",
       "      <td>-0.982843</td>\n",
       "      <td>-0.666608</td>\n",
       "      <td>-1.459000</td>\n",
       "      <td>0.441052</td>\n",
       "      <td>-1.075562</td>\n",
       "    </tr>\n",
       "    <tr>\n",
       "      <th>1</th>\n",
       "      <td>-0.417339</td>\n",
       "      <td>-0.487722</td>\n",
       "      <td>-0.593381</td>\n",
       "      <td>-0.272599</td>\n",
       "      <td>-0.740262</td>\n",
       "      <td>0.194274</td>\n",
       "      <td>0.367166</td>\n",
       "      <td>0.557160</td>\n",
       "      <td>-0.867883</td>\n",
       "      <td>-0.987329</td>\n",
       "      <td>-0.303094</td>\n",
       "      <td>0.441052</td>\n",
       "      <td>-0.492439</td>\n",
       "    </tr>\n",
       "    <tr>\n",
       "      <th>2</th>\n",
       "      <td>-0.417342</td>\n",
       "      <td>-0.487722</td>\n",
       "      <td>-0.593381</td>\n",
       "      <td>-0.272599</td>\n",
       "      <td>-0.740262</td>\n",
       "      <td>1.282714</td>\n",
       "      <td>-0.265812</td>\n",
       "      <td>0.557160</td>\n",
       "      <td>-0.867883</td>\n",
       "      <td>-0.987329</td>\n",
       "      <td>-0.303094</td>\n",
       "      <td>0.396427</td>\n",
       "      <td>-1.208727</td>\n",
       "    </tr>\n",
       "    <tr>\n",
       "      <th>3</th>\n",
       "      <td>-0.416750</td>\n",
       "      <td>-0.487722</td>\n",
       "      <td>-1.306878</td>\n",
       "      <td>-0.272599</td>\n",
       "      <td>-0.835284</td>\n",
       "      <td>1.016303</td>\n",
       "      <td>-0.809889</td>\n",
       "      <td>1.077737</td>\n",
       "      <td>-0.752922</td>\n",
       "      <td>-1.106115</td>\n",
       "      <td>0.113032</td>\n",
       "      <td>0.416163</td>\n",
       "      <td>-1.361517</td>\n",
       "    </tr>\n",
       "    <tr>\n",
       "      <th>4</th>\n",
       "      <td>-0.412482</td>\n",
       "      <td>-0.487722</td>\n",
       "      <td>-1.306878</td>\n",
       "      <td>-0.272599</td>\n",
       "      <td>-0.835284</td>\n",
       "      <td>1.228577</td>\n",
       "      <td>-0.511180</td>\n",
       "      <td>1.077737</td>\n",
       "      <td>-0.752922</td>\n",
       "      <td>-1.106115</td>\n",
       "      <td>0.113032</td>\n",
       "      <td>0.441052</td>\n",
       "      <td>-1.026501</td>\n",
       "    </tr>\n",
       "  </tbody>\n",
       "</table>\n",
       "</div>"
      ],
      "text/plain": [
       "         0         1         2   ...        10        11        12\n",
       "0 -0.419782  0.284830 -1.287909  ... -1.459000  0.441052 -1.075562\n",
       "1 -0.417339 -0.487722 -0.593381  ... -0.303094  0.441052 -0.492439\n",
       "2 -0.417342 -0.487722 -0.593381  ... -0.303094  0.396427 -1.208727\n",
       "3 -0.416750 -0.487722 -1.306878  ...  0.113032  0.416163 -1.361517\n",
       "4 -0.412482 -0.487722 -1.306878  ...  0.113032  0.441052 -1.026501\n",
       "\n",
       "[5 rows x 13 columns]"
      ]
     },
     "execution_count": 93,
     "metadata": {},
     "output_type": "execute_result"
    }
   ],
   "source": [
    "#normalise the Data\n",
    "X =(X-u)/std\n",
    "pd.DataFrame(X[:5,:]).head()"
   ]
  },
  {
   "cell_type": "code",
   "execution_count": 94,
   "metadata": {},
   "outputs": [
    {
     "data": {
      "text/plain": [
       "<matplotlib.collections.PathCollection at 0x220f6db43d0>"
      ]
     },
     "execution_count": 94,
     "metadata": {},
     "output_type": "execute_result"
    },
    {
     "data": {
      "image/png": "[encoded data removed]",
      "text/plain": [
       "<Figure size 576x396 with 1 Axes>"
      ]
     },
     "metadata": {},
     "output_type": "display_data"
    }
   ],
   "source": [
    "#plot value of Y vs any one feature\n",
    "import matplotlib.pyplot as plt\n",
    "plt.style.use('seaborn')\n",
    "plt.scatter(X[:,5],y)   #taking 5th feature"
   ]
  },
  {
   "cell_type": "code",
   "execution_count": 95,
   "metadata": {},
   "outputs": [
    {
     "name": "stdout",
     "output_type": "stream",
     "text": [
      "(506, 14)\n"
     ]
    }
   ],
   "source": [
    "# first define the hypothese function\n",
    "\n",
    "# but before that, here we are adding a dummy column for X0 =1 hence the total cols =13+1=14\n",
    "ones = np.ones((X.shape[0],1))\n",
    "# print(ones)\n",
    "X = np.hstack((ones,X))\n",
    "print(X.shape)"
   ]
  },
  {
   "cell_type": "code",
   "execution_count": 96,
   "metadata": {},
   "outputs": [
    {
     "data": {
      "text/plain": [
       "array([[ 1.        , -0.41978194,  0.28482986, -1.2879095 ],\n",
       "       [ 1.        , -0.41733926, -0.48772236, -0.59338101],\n",
       "       [ 1.        , -0.41734159, -0.48772236, -0.59338101],\n",
       "       [ 1.        , -0.41675042, -0.48772236, -1.30687771]])"
      ]
     },
     "execution_count": 96,
     "metadata": {},
     "output_type": "execute_result"
    }
   ],
   "source": [
    "X[:4,:4] #hence our matrix will look like"
   ]
  },
  {
   "cell_type": "code",
   "execution_count": 98,
   "metadata": {},
   "outputs": [],
   "source": [
    "# X - matrx\n",
    "# x - Vector (Single Example with n features)\n",
    "def hypothesis(x,theta):\n",
    "    y_ =0.0\n",
    "    n= x.shape[0]\n",
    "    for i in range(n):\n",
    "        y_ += (theta[i]*x[i])\n",
    "    return y_\n",
    "\n",
    "\n",
    "def error(X,y,theta):\n",
    "    e = 0.0\n",
    "    m=X.shape[0]\n",
    "    \n",
    "    for i in range(m):\n",
    "        y_ = hypothesis(X[i], theta)\n",
    "        e+= (y[i]-y_)**2\n",
    "    return e/m\n",
    "\n",
    "\n",
    "def gradient(X,y,theta):\n",
    "        m,n=X.shape\n",
    "        grad = np.zeros((n,))\n",
    "        \n",
    "        #for all values of j\n",
    "        for j in range(n):\n",
    "            for i in range(m):\n",
    "                y_ = hypothesis(X[i],theta)\n",
    "                grad[j] += (y_ - y[i])*X[i][j]\n",
    "        #out of the loops\n",
    "        return grad/m\n",
    "\n",
    "\n",
    "\n",
    "def gradient_descent(X,y, learning_rate=0.1, max_epochs = 300):\n",
    "    m,n = X.shape\n",
    "    theta = np.zeros((n,))\n",
    "    error_list = []\n",
    "    for i in range(max_epochs):\n",
    "        e = error(X,y,theta)\n",
    "        error_list.append(e)\n",
    "        # gradient Descent\n",
    "        grad = gradient(X,y, theta)\n",
    "        for j in range(n):\n",
    "            theta[j]=theta[j]- learning_rate*grad[j]\n",
    "    return theta,error_list\n",
    "    "
   ]
  },
  {
   "cell_type": "code",
   "execution_count": 109,
   "metadata": {},
   "outputs": [
    {
     "name": "stdout",
     "output_type": "stream",
     "text": [
      "Time taken is:  19.638750553131104\n"
     ]
    }
   ],
   "source": [
    "import time\n",
    "start =time.time()\n",
    "theta, error_list = gradient_descent(X,y)\n",
    "end = time.time()\n",
    "print(\"Time taken is: \", end-start)"
   ]
  },
  {
   "cell_type": "code",
   "execution_count": 110,
   "metadata": {},
   "outputs": [
    {
     "name": "stdout",
     "output_type": "stream",
     "text": [
      "[ 2.25328063e+01 -9.03091692e-01  1.03815625e+00  1.53477685e-02\n",
      "  6.99554920e-01 -2.02101672e+00  2.70014278e+00 -1.93085233e-03\n",
      " -3.10234837e+00  2.34354753e+00 -1.72031485e+00 -2.04614394e+00\n",
      "  8.47845679e-01 -3.73089521e+00]\n"
     ]
    }
   ],
   "source": [
    "print(theta)"
   ]
  },
  {
   "cell_type": "code",
   "execution_count": 111,
   "metadata": {},
   "outputs": [
    {
     "data": {
      "image/png": "[encoded data removed]",
      "text/plain": [
       "<Figure size 576x396 with 1 Axes>"
      ]
     },
     "metadata": {},
     "output_type": "display_data"
    }
   ],
   "source": [
    "plt.plot(error_list)\n",
    "plt.show()"
   ]
  },
  {
   "cell_type": "markdown",
   "metadata": {},
   "source": [
    "# Predictions"
   ]
  },
  {
   "cell_type": "code",
   "execution_count": 115,
   "metadata": {},
   "outputs": [
    {
     "data": {
      "text/plain": [
       "array([30.18633694, 24.99095484, 30.56568098, 28.6220126 , 27.9619464 ,\n",
       "       25.24452832, 22.96581931, 19.4959112 , 11.48031987, 18.87883585,\n",
       "       18.97129884, 21.54039453, 20.89285327, 19.60128149, 19.32367393,\n",
       "       19.3458686 , 20.59832729, 16.95783793, 16.23493881, 18.44548854,\n",
       "       12.55479461, 17.70925422, 15.88547043, 13.84190443, 15.71570947,\n",
       "       13.4205508 , 15.49775358, 14.75818241, 19.59955913, 20.93977682,\n",
       "       11.49745095, 18.09361635,  8.88301038, 14.31610222, 13.75983633,\n",
       "       23.77730951, 22.30988941, 23.08772244, 22.90940545, 31.27562517,\n",
       "       34.14934567, 27.99150715, 25.15161107, 24.56195221, 22.86665722,\n",
       "       22.01299699, 20.35079995, 17.94239765,  9.0032359 , 17.10959314,\n",
       "       21.16463059, 23.8404942 , 27.56319999, 23.94281148, 15.70766609,\n",
       "       30.96324445, 24.93746243, 32.91466583, 21.63293708, 20.92400291,\n",
       "       17.6977369 , 18.32617385, 23.82616369, 22.4283064 , 23.34895856,\n",
       "       30.37522177, 25.5255783 , 21.2306401 , 17.52571154, 20.89494847,\n",
       "       25.20175729, 21.72374982, 24.54156678, 24.03905863, 25.62679124,\n",
       "       24.06381642, 23.02484813, 23.44984561, 21.35657377, 22.51629435,\n",
       "       28.40848967, 26.96899155, 26.0263214 , 25.03478105, 24.79279036,\n",
       "       27.79575063, 22.17067399, 25.88154887, 30.78085348, 30.95800581,\n",
       "       27.22453062, 27.51066854, 28.71288943, 28.859444  , 26.79054644,\n",
       "       28.75132406, 24.83596211, 35.94281395, 35.29511986, 32.40179358,\n",
       "       24.75516584, 25.77444454, 19.95640618, 20.46644109, 21.58632495,\n",
       "       18.68176932, 17.33656725, 20.90711862, 22.80555026, 19.93114262,\n",
       "       20.83065748, 26.72618732, 20.94596258, 20.89490035, 25.35381775,\n",
       "       20.60731806, 23.5681151 , 23.86484071, 20.52156256, 20.97469607,\n",
       "       21.46430039, 22.01300726, 20.09753035, 15.91329192, 20.09521555,\n",
       "       22.02074575, 14.15984655, 15.25545131, 19.03740999, 14.1352851 ,\n",
       "       20.13025782, 19.50313176, 20.15288628, 15.83693395, 13.33844552,\n",
       "       17.36216855, 15.96622551, 19.46024179, 13.90315188, 16.54388879,\n",
       "       13.68013927,  4.07198338, 14.72017174, 12.20784414,  8.76929608,\n",
       "       12.12027516, 15.86629239,  8.55791283,  9.77073593, 14.86013526,\n",
       "       20.8952471 , 18.32765139, 20.21117474, 17.33271057, 22.49615131,\n",
       "       20.25459101, 13.65952896, 33.2468105 , 28.98648563, 25.62406378,\n",
       "       32.74562707, 36.7823308 , 40.64269162, 41.95843663, 24.75521343,\n",
       "       25.35466422, 37.22852041, 23.0666828 , 26.38364858, 26.63892348,\n",
       "       22.52389982, 24.25575334, 22.97600489, 29.09572209, 26.53800723,\n",
       "       30.78324212, 25.65654447, 29.16112396, 31.47969566, 32.86492694,\n",
       "       34.68152029, 27.68209514, 33.81087102, 30.89257238, 22.60237111,\n",
       "       24.6856437 , 35.86195874, 33.60287616, 32.58804086, 34.70805199,\n",
       "       30.9599932 , 30.47235491, 33.11862186, 32.15190019, 31.58307316,\n",
       "       40.7789065 , 36.23403224, 32.77576042, 34.81194629, 30.32367884,\n",
       "       30.88109842, 29.39755706, 37.24480147, 41.83064886, 42.99421839,\n",
       "       22.62968833, 23.61607964, 17.76509228, 23.48946808, 16.95873754,\n",
       "       22.36303304, 17.02544724, 22.73071165, 25.16655046, 11.08457985,\n",
       "       24.44301282, 26.49588   , 28.17670655, 24.78916776, 29.56428433,\n",
       "       33.1752172 , 23.75561209, 32.13861685, 29.65742786, 38.33728061,\n",
       "       39.79578234, 37.53634615, 32.32855843, 35.44820177, 31.18054207,\n",
       "       24.38893517, 33.22734434, 38.02023676, 37.136191  , 31.71171598,\n",
       "       25.17935464, 30.08970257, 32.66118869, 28.37608803, 28.36666955,\n",
       "       27.23977663, 23.65256421, 24.04779992, 27.35469295, 16.25582102,\n",
       "       13.34172873, 19.98853241, 19.80620596, 21.26183873, 24.08247968,\n",
       "       24.20210886, 25.03563452, 24.93445899, 30.00798592, 24.03262586,\n",
       "       21.76211251, 37.36399601, 43.31706217, 36.44279771, 34.92929383,\n",
       "       34.78322719, 37.13926091, 40.99074091, 34.41612486, 35.79504137,\n",
       "       28.1727436 , 31.19888966, 40.83676536, 39.288083  , 25.63769699,\n",
       "       22.17456441, 27.09685757, 28.38539604, 35.46717966, 36.06036707,\n",
       "       33.67574658, 35.57670377, 34.80227754, 30.23276262, 35.15620445,\n",
       "       38.6547765 , 34.17960958, 40.27116049, 44.62943331, 31.62777158,\n",
       "       27.46303705, 20.06657863, 26.90212328, 27.06757675, 26.79818362,\n",
       "       33.2601829 , 34.23933167, 31.65529255, 25.69684394, 24.2895399 ,\n",
       "       28.34371519, 27.23067951, 19.38951302, 29.16824677, 31.99858441,\n",
       "       30.8269393 , 28.87794391, 28.82920298, 32.75779147, 33.03623723,\n",
       "       30.56272488, 35.37125142, 32.50005623, 28.63810791, 23.57437039,\n",
       "       18.53177462, 26.88111528, 23.26016057, 25.53297274, 25.47905049,\n",
       "       20.51632102, 17.60898892, 18.36840885, 24.2989913 , 21.33484616,\n",
       "       24.86836994, 24.84700456, 22.84025836, 19.39821704, 25.10698231,\n",
       "       24.67525381, 23.67513357, 19.32722116, 21.5477069 , 24.64514863,\n",
       "       21.97057077, 20.07479807, 23.43733111, 22.04503869, 21.46088043,\n",
       "       20.51923232, 20.04886555, 19.1653249 , 22.06584752, 21.14213423,\n",
       "       21.3104903 , 30.47952808, 22.54704194, 27.81843045, 28.68415534,\n",
       "       16.7673417 , 15.00298937, 25.32056825, 27.48492114, 22.43006026,\n",
       "       20.71716445, 20.80542326, 17.13133769, 25.08441022, 14.38628919,\n",
       "       16.66407668, 19.68860641, 22.75865294, 22.23952396, 19.17293283,\n",
       "       22.63144217, 18.89898144, 18.15059782, 20.25540711, 37.59798667,\n",
       "       14.12492034, 15.44545915, 10.69037333, 23.6532781 , 32.63561679,\n",
       "       34.61091787, 24.86570161, 25.99542188,  6.06180234,  0.71215143,\n",
       "       25.32082269, 17.73873273, 20.2120143 , 15.84398124, 16.8168905 ,\n",
       "       14.58452918, 18.46416478, 13.37107784, 13.00277178,  3.23209322,\n",
       "        8.03047544,  6.09178153,  5.60426784,  6.39907926, 14.13868221,\n",
       "       17.14671178, 17.25536638,  9.82922179, 20.17590698, 17.89942848,\n",
       "       20.26838217, 19.25481427, 16.27530756,  6.58723159, 10.87430865,\n",
       "       11.8912482 , 17.79163586, 18.23023728, 12.95565459,  7.43244283,\n",
       "        8.32802386,  7.97864605, 19.90471826, 13.62476144, 19.82469081,\n",
       "       15.24712007, 16.9292683 ,  1.64962962, 11.75673818, -4.2422687 ,\n",
       "        9.59547725, 13.37128374,  6.89080314,  6.2886687 , 14.63272108,\n",
       "       19.57294693, 18.07517537, 18.44554355, 13.12415263, 14.55111653,\n",
       "        9.90466233, 16.29625138, 14.12584991, 14.23134913, 13.02062831,\n",
       "       18.10033763, 18.6562879 , 21.46341362, 17.00279126, 15.94079571,\n",
       "       13.37168725, 14.52722865,  8.82709859,  4.8841789 , 13.02914465,\n",
       "       12.71318484, 17.28040573, 18.69901555, 18.04405036, 11.498378  ,\n",
       "       11.97862086, 17.65443998, 18.10166746, 17.4819    , 17.19808049,\n",
       "       16.5091233 , 19.38287045, 18.54146673, 22.49198974, 15.27495005,\n",
       "       15.79847469, 12.6455792 , 12.84583944, 17.16031146, 18.46994646,\n",
       "       19.02408657, 20.12821931, 19.73964122, 22.38802915, 20.27846759,\n",
       "       17.83103569, 14.31089914, 16.86064979, 16.93728254, 18.53081349,\n",
       "       20.08306855, 22.86851111, 22.38272261, 25.53964704, 16.28690641,\n",
       "       16.03889051, 20.47078681, 11.47360361, 19.14215843, 21.81114569,\n",
       "       23.38202469, 27.0173952 , 28.49714159, 20.98934056, 19.383023  ,\n",
       "       22.15757864, 19.57601477, 21.24893652, 12.38837802,  8.76205574,\n",
       "        4.20127822, 14.30651575, 16.48193898, 20.7541228 , 20.75988486,\n",
       "       17.04111566, 14.13159609, 19.23104385, 21.43031199, 18.56811902,\n",
       "       20.59285253, 23.57836567, 22.39616551, 27.66240175, 26.15939095,\n",
       "       22.35625671])"
      ]
     },
     "execution_count": 115,
     "metadata": {},
     "output_type": "execute_result"
    }
   ],
   "source": [
    "y_ = []\n",
    "m,n=X.shape\n",
    "for i in range(m):\n",
    "    pred=hypothesis(X[i], theta)\n",
    "    y_.append(pred)\n",
    "y_ = np.array(y_)\n",
    "y_"
   ]
  },
  {
   "cell_type": "markdown",
   "metadata": {},
   "source": [
    "### Note: Time take is almost 20 sec which is quit slow for 506 examples in the dataset\n",
    "### hence we need to optimize the code by using the vectorization"
   ]
  },
  {
   "cell_type": "markdown",
   "metadata": {},
   "source": [
    "## Score of the above model:"
   ]
  },
  {
   "cell_type": "code",
   "execution_count": 116,
   "metadata": {},
   "outputs": [],
   "source": [
    "def r2_score(y,y_):\n",
    "    num = np.sum((y-y_)**2)\n",
    "    denom = np.sum((y-y.mean())**2)\n",
    "    score = (1-num/denom)\n",
    "    return score*100"
   ]
  },
  {
   "cell_type": "code",
   "execution_count": 118,
   "metadata": {},
   "outputs": [
    {
     "data": {
      "text/plain": [
       "74.04541323942743"
      ]
     },
     "execution_count": 118,
     "metadata": {},
     "output_type": "execute_result"
    }
   ],
   "source": [
    "r2_score(y,y_)"
   ]
  },
  {
   "cell_type": "code",
   "execution_count": 119,
   "metadata": {},
   "outputs": [],
   "source": [
    "## hence our model working 74% correctly"
   ]
  },
  {
   "cell_type": "markdown",
   "metadata": {},
   "source": [
    "# Optimization using Vectorization"
   ]
  },
  {
   "cell_type": "markdown",
   "metadata": {},
   "source": [
    "## Vectorization: \n",
    "    An Efficent Implemenation for Linear Regression using Vectorization\n",
    "        # Avoid loops in the implemenation, except gradient descent main loop\n",
    "        # Use numpy functions like np.sum() , np.dot() which are quite fast and already optimised"
   ]
  },
  {
   "cell_type": "code",
   "execution_count": 120,
   "metadata": {},
   "outputs": [],
   "source": [
    "def hypothesis(X, theta):\n",
    "    return np.dot(X,theta)\n",
    "\n",
    "def error(X,y,theta):\n",
    "    e = 0.0\n",
    "    m = X.shape[0]\n",
    "    y_= hypothesis(X,theta)\n",
    "    e = np.sum((y-y_)**2)\n",
    "    return e/m\n",
    "\n",
    "def gradient(X,y,theta):\n",
    "    y_ = hypothesis(X,theta)\n",
    "    grad = np.dot(X.T, (y_-y))\n",
    "    m = X.shape[0]\n",
    "    return grad/m\n",
    "\n",
    "def gradient_descent(X,y,learning_rate=0.1, max_iters=300):\n",
    "    n= X.shape[1]\n",
    "    theta = np.zeros((n,))\n",
    "    error_list =[]\n",
    "    \n",
    "    for i in range(max_iters):\n",
    "        e = error(X,y,theta)\n",
    "        error_list.append(e)\n",
    "        \n",
    "        #gradient descent\n",
    "        grad = gradient(X,y,theta)\n",
    "        theta = theta -learning_rate*grad\n",
    "    return theta,error_list\n"
   ]
  },
  {
   "cell_type": "code",
   "execution_count": 121,
   "metadata": {},
   "outputs": [],
   "source": [
    "theta,error_list = gradient_descent(X,y)"
   ]
  },
  {
   "cell_type": "code",
   "execution_count": 122,
   "metadata": {},
   "outputs": [
    {
     "data": {
      "text/plain": [
       "array([ 2.25328063e+01, -9.03091692e-01,  1.03815625e+00,  1.53477685e-02,\n",
       "        6.99554920e-01, -2.02101672e+00,  2.70014278e+00, -1.93085233e-03,\n",
       "       -3.10234837e+00,  2.34354753e+00, -1.72031485e+00, -2.04614394e+00,\n",
       "        8.47845679e-01, -3.73089521e+00])"
      ]
     },
     "execution_count": 122,
     "metadata": {},
     "output_type": "execute_result"
    }
   ],
   "source": [
    "theta"
   ]
  },
  {
   "cell_type": "code",
   "execution_count": 124,
   "metadata": {},
   "outputs": [
    {
     "data": {
      "text/plain": [
       "[<matplotlib.lines.Line2D at 0x220f800d9a0>]"
      ]
     },
     "execution_count": 124,
     "metadata": {},
     "output_type": "execute_result"
    },
    {
     "data": {
      "image/png": "[encoded data removed]",
      "text/plain": [
       "<Figure size 576x396 with 1 Axes>"
      ]
     },
     "metadata": {},
     "output_type": "display_data"
    }
   ],
   "source": [
    "plt.plot(error_list)"
   ]
  },
  {
   "cell_type": "code",
   "execution_count": 125,
   "metadata": {},
   "outputs": [
    {
     "data": {
      "text/plain": [
       "[<matplotlib.lines.Line2D at 0x220f8036a30>]"
      ]
     },
     "execution_count": 125,
     "metadata": {},
     "output_type": "execute_result"
    },
    {
     "data": {
      "image/png": "[encoded data removed]",
      "text/plain": [
       "<Figure size 576x396 with 1 Axes>"
      ]
     },
     "metadata": {},
     "output_type": "display_data"
    }
   ],
   "source": [
    "plt.plot(theta)"
   ]
  },
  {
   "cell_type": "code",
   "execution_count": 126,
   "metadata": {},
   "outputs": [
    {
     "name": "stdout",
     "output_type": "stream",
     "text": [
      "Time taken is:  0.010976552963256836\n"
     ]
    }
   ],
   "source": [
    "#calculating time taken\n",
    "start =time.time()\n",
    "theta, error_list = gradient_descent(X,y)\n",
    "end = time.time()\n",
    "print(\"Time taken by vectorization method: \", end-start)"
   ]
  },
  {
   "cell_type": "markdown",
   "metadata": {},
   "source": [
    "## Score of the model"
   ]
  },
  {
   "cell_type": "code",
   "execution_count": 127,
   "metadata": {},
   "outputs": [
    {
     "data": {
      "text/plain": [
       "74.04541323942743"
      ]
     },
     "execution_count": 127,
     "metadata": {},
     "output_type": "execute_result"
    }
   ],
   "source": [
    "r2_score(y,y_)"
   ]
  },
  {
   "cell_type": "markdown",
   "metadata": {},
   "source": [
    "#### score is same as earlier, but code is really fast as compared to earlier code"
   ]
  },
  {
   "cell_type": "code",
   "execution_count": 131,
   "metadata": {},
   "outputs": [
    {
     "data": {
      "text/plain": [
       "array([30.18633694, 24.99095484, 30.56568098, 28.6220126 , 27.9619464 ,\n",
       "       25.24452832, 22.96581931, 19.4959112 , 11.48031987, 18.87883585,\n",
       "       18.97129884, 21.54039453, 20.89285327, 19.60128149, 19.32367393,\n",
       "       19.3458686 , 20.59832729, 16.95783793, 16.23493881, 18.44548854,\n",
       "       12.55479461, 17.70925422, 15.88547043, 13.84190443, 15.71570947,\n",
       "       13.4205508 , 15.49775358, 14.75818241, 19.59955913, 20.93977682,\n",
       "       11.49745095, 18.09361635,  8.88301038, 14.31610222, 13.75983633,\n",
       "       23.77730951, 22.30988941, 23.08772244, 22.90940545, 31.27562517,\n",
       "       34.14934567, 27.99150715, 25.15161107, 24.56195221, 22.86665722,\n",
       "       22.01299699, 20.35079995, 17.94239765,  9.0032359 , 17.10959314,\n",
       "       21.16463059, 23.8404942 , 27.56319999, 23.94281148, 15.70766609,\n",
       "       30.96324445, 24.93746243, 32.91466583, 21.63293708, 20.92400291,\n",
       "       17.6977369 , 18.32617385, 23.82616369, 22.4283064 , 23.34895856,\n",
       "       30.37522177, 25.5255783 , 21.2306401 , 17.52571154, 20.89494847,\n",
       "       25.20175729, 21.72374982, 24.54156678, 24.03905863, 25.62679124,\n",
       "       24.06381642, 23.02484813, 23.44984561, 21.35657377, 22.51629435,\n",
       "       28.40848967, 26.96899155, 26.0263214 , 25.03478105, 24.79279036,\n",
       "       27.79575063, 22.17067399, 25.88154887, 30.78085348, 30.95800581,\n",
       "       27.22453062, 27.51066854, 28.71288943, 28.859444  , 26.79054644,\n",
       "       28.75132406, 24.83596211, 35.94281395, 35.29511986, 32.40179358,\n",
       "       24.75516584, 25.77444454, 19.95640618, 20.46644109, 21.58632495,\n",
       "       18.68176932, 17.33656725, 20.90711862, 22.80555026, 19.93114262,\n",
       "       20.83065748, 26.72618732, 20.94596258, 20.89490035, 25.35381775,\n",
       "       20.60731806, 23.5681151 , 23.86484071, 20.52156256, 20.97469607,\n",
       "       21.46430039, 22.01300726, 20.09753035, 15.91329192, 20.09521555,\n",
       "       22.02074575, 14.15984655, 15.25545131, 19.03740999, 14.1352851 ,\n",
       "       20.13025782, 19.50313176, 20.15288628, 15.83693395, 13.33844552,\n",
       "       17.36216855, 15.96622551, 19.46024179, 13.90315188, 16.54388879,\n",
       "       13.68013927,  4.07198338, 14.72017174, 12.20784414,  8.76929608,\n",
       "       12.12027516, 15.86629239,  8.55791283,  9.77073593, 14.86013526,\n",
       "       20.8952471 , 18.32765139, 20.21117474, 17.33271057, 22.49615131,\n",
       "       20.25459101, 13.65952896, 33.2468105 , 28.98648563, 25.62406378,\n",
       "       32.74562707, 36.7823308 , 40.64269162, 41.95843663, 24.75521343,\n",
       "       25.35466422, 37.22852041, 23.0666828 , 26.38364858, 26.63892348,\n",
       "       22.52389982, 24.25575334, 22.97600489, 29.09572209, 26.53800723,\n",
       "       30.78324212, 25.65654447, 29.16112396, 31.47969566, 32.86492694,\n",
       "       34.68152029, 27.68209514, 33.81087102, 30.89257238, 22.60237111,\n",
       "       24.6856437 , 35.86195874, 33.60287616, 32.58804086, 34.70805199,\n",
       "       30.9599932 , 30.47235491, 33.11862186, 32.15190019, 31.58307316,\n",
       "       40.7789065 , 36.23403224, 32.77576042, 34.81194629, 30.32367884,\n",
       "       30.88109842, 29.39755706, 37.24480147, 41.83064886, 42.99421839,\n",
       "       22.62968833, 23.61607964, 17.76509228, 23.48946808, 16.95873754,\n",
       "       22.36303304, 17.02544724, 22.73071165, 25.16655046, 11.08457985,\n",
       "       24.44301282, 26.49588   , 28.17670655, 24.78916776, 29.56428433,\n",
       "       33.1752172 , 23.75561209, 32.13861685, 29.65742786, 38.33728061,\n",
       "       39.79578234, 37.53634615, 32.32855843, 35.44820177, 31.18054207,\n",
       "       24.38893517, 33.22734434, 38.02023676, 37.136191  , 31.71171598,\n",
       "       25.17935464, 30.08970257, 32.66118869, 28.37608803, 28.36666955,\n",
       "       27.23977663, 23.65256421, 24.04779992, 27.35469295, 16.25582102,\n",
       "       13.34172873, 19.98853241, 19.80620596, 21.26183873, 24.08247968,\n",
       "       24.20210886, 25.03563452, 24.93445899, 30.00798592, 24.03262586,\n",
       "       21.76211251, 37.36399601, 43.31706217, 36.44279771, 34.92929383,\n",
       "       34.78322719, 37.13926091, 40.99074091, 34.41612486, 35.79504137,\n",
       "       28.1727436 , 31.19888966, 40.83676536, 39.288083  , 25.63769699,\n",
       "       22.17456441, 27.09685757, 28.38539604, 35.46717966, 36.06036707,\n",
       "       33.67574658, 35.57670377, 34.80227754, 30.23276262, 35.15620445,\n",
       "       38.6547765 , 34.17960958, 40.27116049, 44.62943331, 31.62777158,\n",
       "       27.46303705, 20.06657863, 26.90212328, 27.06757675, 26.79818362,\n",
       "       33.2601829 , 34.23933167, 31.65529255, 25.69684394, 24.2895399 ,\n",
       "       28.34371519, 27.23067951, 19.38951302, 29.16824677, 31.99858441,\n",
       "       30.8269393 , 28.87794391, 28.82920298, 32.75779147, 33.03623723,\n",
       "       30.56272488, 35.37125142, 32.50005623, 28.63810791, 23.57437039,\n",
       "       18.53177462, 26.88111528, 23.26016057, 25.53297274, 25.47905049,\n",
       "       20.51632102, 17.60898892, 18.36840885, 24.2989913 , 21.33484616,\n",
       "       24.86836994, 24.84700456, 22.84025836, 19.39821704, 25.10698231,\n",
       "       24.67525381, 23.67513357, 19.32722116, 21.5477069 , 24.64514863,\n",
       "       21.97057077, 20.07479807, 23.43733111, 22.04503869, 21.46088043,\n",
       "       20.51923232, 20.04886555, 19.1653249 , 22.06584752, 21.14213423,\n",
       "       21.3104903 , 30.47952808, 22.54704194, 27.81843045, 28.68415534,\n",
       "       16.7673417 , 15.00298937, 25.32056825, 27.48492114, 22.43006026,\n",
       "       20.71716445, 20.80542326, 17.13133769, 25.08441022, 14.38628919,\n",
       "       16.66407668, 19.68860641, 22.75865294, 22.23952396, 19.17293283,\n",
       "       22.63144217, 18.89898144, 18.15059782, 20.25540711, 37.59798667,\n",
       "       14.12492034, 15.44545915, 10.69037333, 23.6532781 , 32.63561679,\n",
       "       34.61091787, 24.86570161, 25.99542188,  6.06180234,  0.71215143,\n",
       "       25.32082269, 17.73873273, 20.2120143 , 15.84398124, 16.8168905 ,\n",
       "       14.58452918, 18.46416478, 13.37107784, 13.00277178,  3.23209322,\n",
       "        8.03047544,  6.09178153,  5.60426784,  6.39907926, 14.13868221,\n",
       "       17.14671178, 17.25536638,  9.82922179, 20.17590698, 17.89942848,\n",
       "       20.26838217, 19.25481427, 16.27530756,  6.58723159, 10.87430865,\n",
       "       11.8912482 , 17.79163586, 18.23023728, 12.95565459,  7.43244283,\n",
       "        8.32802386,  7.97864605, 19.90471826, 13.62476144, 19.82469081,\n",
       "       15.24712007, 16.9292683 ,  1.64962962, 11.75673818, -4.2422687 ,\n",
       "        9.59547725, 13.37128374,  6.89080314,  6.2886687 , 14.63272108,\n",
       "       19.57294693, 18.07517537, 18.44554355, 13.12415263, 14.55111653,\n",
       "        9.90466233, 16.29625138, 14.12584991, 14.23134913, 13.02062831,\n",
       "       18.10033763, 18.6562879 , 21.46341362, 17.00279126, 15.94079571,\n",
       "       13.37168725, 14.52722865,  8.82709859,  4.8841789 , 13.02914465,\n",
       "       12.71318484, 17.28040573, 18.69901555, 18.04405036, 11.498378  ,\n",
       "       11.97862086, 17.65443998, 18.10166746, 17.4819    , 17.19808049,\n",
       "       16.5091233 , 19.38287045, 18.54146673, 22.49198974, 15.27495005,\n",
       "       15.79847469, 12.6455792 , 12.84583944, 17.16031146, 18.46994646,\n",
       "       19.02408657, 20.12821931, 19.73964122, 22.38802915, 20.27846759,\n",
       "       17.83103569, 14.31089914, 16.86064979, 16.93728254, 18.53081349,\n",
       "       20.08306855, 22.86851111, 22.38272261, 25.53964704, 16.28690641,\n",
       "       16.03889051, 20.47078681, 11.47360361, 19.14215843, 21.81114569,\n",
       "       23.38202469, 27.0173952 , 28.49714159, 20.98934056, 19.383023  ,\n",
       "       22.15757864, 19.57601477, 21.24893652, 12.38837802,  8.76205574,\n",
       "        4.20127822, 14.30651575, 16.48193898, 20.7541228 , 20.75988486,\n",
       "       17.04111566, 14.13159609, 19.23104385, 21.43031199, 18.56811902,\n",
       "       20.59285253, 23.57836567, 22.39616551, 27.66240175, 26.15939095,\n",
       "       22.35625671])"
      ]
     },
     "execution_count": 131,
     "metadata": {},
     "output_type": "execute_result"
    }
   ],
   "source": [
    "### predictions\n",
    "y_ = hypothesis(X,theta)\n",
    "y_"
   ]
  },
  {
   "cell_type": "code",
   "execution_count": null,
   "metadata": {},
   "outputs": [],
   "source": []
  }
 ],
 "metadata": {
  "kernelspec": {
   "display_name": "Python 3",
   "language": "python",
   "name": "python3"
  },
  "language_info": {
   "codemirror_mode": {
    "name": "ipython",
    "version": 3
   },
   "file_extension": ".py",
   "mimetype": "text/x-python",
   "name": "python",
   "nbconvert_exporter": "python",
   "pygments_lexer": "ipython3",
   "version": "3.8.3"
  }
 },
 "nbformat": 4,
 "nbformat_minor": 4
}
